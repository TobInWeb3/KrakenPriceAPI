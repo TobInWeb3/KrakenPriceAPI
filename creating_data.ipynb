{
 "cells": [
  {
   "cell_type": "code",
   "execution_count": 1,
   "metadata": {},
   "outputs": [],
   "source": [
    "import kraken_api as ka\n",
    "import pandas as pd\n",
    "import instrument\n",
    "import defs"
   ]
  },
  {
   "cell_type": "code",
   "execution_count": 2,
   "metadata": {},
   "outputs": [],
   "source": [
    "apiPublicKey = defs.PUBLIC_API\n",
    "apiPrivateKey = defs.PRIVATE_API\n",
    "apiPath = defs.KRAKEN\n",
    "\n",
    "botPublic = ka.KrakenAPI(apiPath)\n",
    "botPrivate = ka.KrakenAPI(apiPath, apiPublicKey=apiPublicKey,\n",
    "                               apiPrivateKey=apiPrivateKey)"
   ]
  },
  {
   "cell_type": "code",
   "execution_count": 3,
   "metadata": {},
   "outputs": [],
   "source": [
    "df = pd.read_pickle(\"instruments.pkl\")"
   ]
  },
  {
   "cell_type": "code",
   "execution_count": 4,
   "metadata": {},
   "outputs": [],
   "source": [
    "my_coins = ['ADAUSD', 'XBTUSD', 'DOGEUSD', 'DOTUSD', 'ETHUSD', 'MATICUSD', 'SOLUSD', 'TRXUSD', 'XRPUSD']"
   ]
  },
  {
   "cell_type": "code",
   "execution_count": 5,
   "metadata": {},
   "outputs": [
    {
     "name": "stdout",
     "output_type": "stream",
     "text": [
      "PF_ADAUSD loaded 4000 candles from 2023-06-02 19:00:00 to 2023-11-16 10:00:00\n",
      "PF_XBTUSD loaded 4000 candles from 2023-06-02 19:00:00 to 2023-11-16 10:00:00\n",
      "PF_DOGEUSD loaded 4000 candles from 2023-06-02 19:00:00 to 2023-11-16 10:00:00\n",
      "PF_DOTUSD loaded 4000 candles from 2023-06-02 19:00:00 to 2023-11-16 10:00:00\n",
      "PF_ETHUSD loaded 4000 candles from 2023-06-02 19:00:00 to 2023-11-16 10:00:00\n",
      "PF_MATICUSD loaded 4000 candles from 2023-06-02 19:00:00 to 2023-11-16 10:00:00\n",
      "PF_SOLUSD loaded 4000 candles from 2023-06-02 19:00:00 to 2023-11-16 10:00:00\n",
      "PF_TRXUSD loaded 4000 candles from 2023-06-02 19:00:00 to 2023-11-16 10:00:00\n",
      "PF_XRPUSD loaded 4000 candles from 2023-06-02 19:00:00 to 2023-11-16 10:00:00\n"
     ]
    }
   ],
   "source": [
    "for i in my_coins:\n",
    "    botPublic.create_data(4000, '1h', f\"PF_{i}\", 'trade')"
   ]
  },
  {
   "cell_type": "code",
   "execution_count": null,
   "metadata": {},
   "outputs": [],
   "source": []
  }
 ],
 "metadata": {
  "kernelspec": {
   "display_name": "base",
   "language": "python",
   "name": "python3"
  },
  "language_info": {
   "codemirror_mode": {
    "name": "ipython",
    "version": 3
   },
   "file_extension": ".py",
   "mimetype": "text/x-python",
   "name": "python",
   "nbconvert_exporter": "python",
   "pygments_lexer": "ipython3",
   "version": "3.11.4"
  }
 },
 "nbformat": 4,
 "nbformat_minor": 2
}
